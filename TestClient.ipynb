# -*- coding: utf-8 -*-
"""
Created on Tue Oct 18 16:38:11 2016

@author: Owner
"""
#Examples using functions from a different file
#from Functions import *
#ForLoop(5)
#WhileLoop(10)
#IfElse(2323)

#Examples using a class 'TextUtilities'
#import TextFileUtilities 
#t = TextFileUtilities.TextUtilities()
#t.WriteTextFile('pythontest.txt')
#t.Write()
#file = "MAPK.fasta"
#t.DispayFileContents(file)

#Example using the pyzml package for LCMS data
import pymzml
import Scan 
from LCMS import *
"""matrix algebra"""
from numpy  import *

#read the mzML file
msrun = pymzml.run.Reader("Tryp_Myo_1.mzML")


#get all the ms2 scans
scans = Getms2scans(msrun)

#example spectrum
spectrum = scans[234]

#print out all the mz intensity pairs
for mz, i in scans[234].peaks:
    print(mz, i)
    
#function to get the mz intensity pairs
GetmziArray(scans[234])

#my scan object example
s = Scan(2,2,1,1,scans[234].peaks)

#another example but using the pymzml codes
s = Scan(2,spectrum.get('id'),
                        spectrum.get('MS:1000744'),
                        spectrum.get('MS:1000041'),
                        spectrum.centroidedPeaks)
                        
#print out the mz intensity arrays again
for mz, i in s.miArray:
    print(mz, i)


myscans = Getms2scans1(scans)

